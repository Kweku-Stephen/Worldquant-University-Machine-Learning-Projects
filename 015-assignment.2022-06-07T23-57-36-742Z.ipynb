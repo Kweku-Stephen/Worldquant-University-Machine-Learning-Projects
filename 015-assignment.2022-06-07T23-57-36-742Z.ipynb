<!doctype html><html lang="en"><head><meta charset="utf-8"><title>JupyterLab</title><meta name="viewport" content="width=device-width,initial-scale=1">   <script id="jupyter-config-data" type="application/json">{"appName": "JupyterLab", "appNamespace": "lab", "appSettingsDir": "/opt/conda/share/jupyter/lab/settings", "appUrl": "/lab", "appVersion": "3.1.12", "baseUrl": "/", "buildAvailable": true, "buildCheck": true, "cacheFiles": false, "collaborative": false, "devMode": false, "disabledExtensions": ["@jupyterlab/docmanager-extension:download", "@jupyterlab/filebrowser-extension:download", "@jupyterlab/docmanager-extension:open-browser-tab", "@jupyterlab/filebrowser-extension:open-browser-tab", "@jupyterlab/git"], "exposeAppInBrowser": false, "extraLabextensionsPath": [], "federated_extensions": [{"extension": "./extension", "load": "static/remoteEntry.967da90926693233229a.js", "name": "jupyter-matplotlib"}, {"extension": "./extension", "load": "static/remoteEntry.249e02ea9427f8cca2ad.js", "mimeExtension": "./mimeExtension", "name": "jupyterlab-plotly"}, {"extension": "./extension", "load": "static/remoteEntry.f6574b55a223d23e7a04.js", "name": "@jupyter-widgets/jupyterlab-manager"}, {"extension": "./extension", "load": "static\\remoteEntry.770029ea89527691bc5a.js", "name": "@aquirdturtle/collapsible_headings", "style": "./style"}, {"extension": "./extension", "load": "static/remoteEntry.12cf3b546f44ca3d0354.js", "name": "@ijmbarr/jupyterlab_spellchecker", "style": "./style"}, {"extension": "./extension", "load": "static/remoteEntry.e84826446ca2e8c10352.js", "name": "@jupyterlab/server-proxy"}], "fullAppUrl": "/lab", "fullLabextensionsUrl": "/lab/extensions", "fullLicensesUrl": "/lab/api/licenses", "fullListingsUrl": "/lab/api/listings", "fullMathjaxUrl": "/static/notebook/components/MathJax/MathJax.js", "fullSettingsUrl": "/lab/api/settings", "fullStaticUrl": "/static/lab", "fullThemesUrl": "/lab/api/themes", "fullTranslationsApiUrl": "/lab/api/translations", "fullTreeUrl": "/lab/tree", "fullWorkspacesApiUrl": "/lab/api/workspaces", "ignorePlugins": [], "labextensionsPath": ["/home/jovyan/.local/share/jupyter/labextensions", "/opt/conda/share/jupyter/labextensions", "/usr/local/share/jupyter/labextensions", "/usr/share/jupyter/labextensions"], "labextensionsUrl": "/lab/extensions", "licensesUrl": "/lab/api/licenses", "listingsUrl": "/lab/api/listings", "mathjaxConfig": "TeX-AMS-MML_HTMLorMML-full,Safe", "mode": "multiple-document", "notebookVersion": "[1, 11, 0]", "preferredDir": "/home/jovyan", "preferredPath": "", "quitButton": true, "schemasDir": "/opt/conda/share/jupyter/lab/schemas", "serverRoot": "/home/jovyan", "settingsUrl": "/lab/api/settings", "staticDir": "/opt/conda/share/jupyter/lab/static", "store_id": 21, "templatesDir": "/opt/conda/share/jupyter/lab/static", "terminalsAvailable": true, "themesDir": "/opt/conda/share/jupyter/lab/themes", "themesUrl": "/lab/api/themes", "token": "", "translationsApiUrl": "/lab/api/translations", "treePath": "work/ds-curriculum/010-housing-in-mexico/015-assignment.2022-06-07T23-57-36-742Z.ipynb", "treeUrl": "/lab/tree", "userSettingsDir": "/home/jovyan/work/.jupyter/lab/user-settings", "workspace": "auto-w", "workspacesApiUrl": "/lab/api/workspaces", "workspacesDir": "/home/jovyan/work/.jupyter/lab/workspaces", "wsUrl": ""}</script><link rel="icon" type="image/x-icon" href="/static/favicons/favicon.ico" class="idle favicon"><link rel="" type="image/x-icon" href="/static/favicons/favicon-busy-1.ico" class="busy favicon"><script defer="defer" src="/static/lab/main.d33b7be11a3f85342365.js?v=d33b7be11a3f85342365"></script></head><body><script>/* Remove token from URL. */
  (function () {
    var location = window.location;
    var search = location.search;

    // If there is no query string, bail.
    if (search.length <= 1) {
      return;
    }

    // Rebuild the query string without the `token`.
    var query = '?' + search.slice(1).split('&')
      .filter(function (param) { return param.split('=')[0] !== 'token'; })
      .join('&');

    // Rebuild the URL with the new query string.
    var url = location.origin + location.pathname +
      (query !== '?' ? query : '') + location.hash;

    if (url === location.href) {
      return;
    }

    window.history.replaceState({ }, '', url);
  })();</script></body></html>